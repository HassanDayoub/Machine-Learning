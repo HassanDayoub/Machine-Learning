{
  "nbformat": 4,
  "nbformat_minor": 0,
  "metadata": {
    "colab": {
      "name": "Linear Regression.ipynb",
      "provenance": [],
      "collapsed_sections": [],
      "toc_visible": true,
      "include_colab_link": true
    },
    "kernelspec": {
      "name": "python3",
      "display_name": "Python 3"
    }
  },
  "cells": [
    {
      "cell_type": "markdown",
      "metadata": {
        "id": "view-in-github",
        "colab_type": "text"
      },
      "source": [
        "<a href=\"https://colab.research.google.com/github/HassanDayoub/Machine-Learning/blob/master/Linear_Regression.ipynb\" target=\"_parent\"><img src=\"https://colab.research.google.com/assets/colab-badge.svg\" alt=\"Open In Colab\"/></a>"
      ]
    },
    {
      "cell_type": "markdown",
      "metadata": {
        "id": "_qMr9J7FlItm",
        "colab_type": "text"
      },
      "source": [
        "# Regression\n",
        "\n",
        "Regression analysis is one of the most important fields in statistics and machine learning. There are many regression methods available. Linear regression is one of them.\n",
        "\n",
        "### What Is Regression?\n",
        "Regression searches for relationships among variables.\n",
        "\n",
        "For example, you can observe several employees of some company and try to understand how their salaries depend on the **features**, such as experience, level of education, role, city they work in, and so on.\n",
        "\n",
        "This is a regression problem where data related to each employee represent one **observation** . The presumption is that the experience, education, role, and city are the independent features, while the salary depends on them.\n",
        "\n",
        "Similarly, you can try to establish a mathematical dependence of the prices of houses on their areas, numbers of bedrooms, distances to the city center, and so on.\n",
        "\n",
        "Generally, in regression analysis, you usually consider some phenomenon of interest and have a number of observations. Each observation has two or more features. Following the assumption that (at least) one of the features depends on the others, you try to establish a relation among them.\n",
        "\n",
        "In other words, **you need to find a function that maps some features or variables to others sufficiently well.**\n",
        "\n",
        "The dependent features are called the **dependent variables**, **outputs**, or **responses**.\n",
        "\n",
        "The independent features are called the **independent variables**, **inputs**, or **predictors**.\n",
        "\n",
        "Regression problems usually have one continuous and unbounded dependent variable. The inputs, however, can be continuous, discrete, or even categorical data such as gender, nationality, brand, and so on.\n",
        "\n",
        "It is a common practice to denote the outputs with 𝑦 and inputs with 𝑥. If there are two or more independent variables, they can be represented as the vector 𝐱 = (𝑥₁, …, 𝑥ᵣ), where 𝑟 is the number of inputs.\n",
        "\n",
        "### When Do You Need Regression?\n",
        "\n",
        "Typically, you need regression to answer whether and how some phenomenon influences the other or **how several variables are related**. For example, you can use it to determine if and to what extent the experience or gender impact salaries.\n",
        "\n",
        "Regression is also useful when you want **to forecast a response** using a new set of predictors. For example, you could try to predict electricity consumption of a household for the next hour given the outdoor temperature, time of day, and number of residents in that household.\n",
        "\n",
        "Regression is used in many different fields: economy, computer science, social sciences, and so on. Its importance rises every day with the availability of large amounts of data and increased awareness of the practical value of data.\n",
        "\n"
      ]
    },
    {
      "cell_type": "markdown",
      "metadata": {
        "id": "X3_trTM9n6Vu",
        "colab_type": "text"
      },
      "source": [
        "# Linear Regression\n",
        "\n",
        "Linear regression is probably one of the most important and widely used regression techniques. It’s among the simplest regression methods. One of its main advantages is the ease of interpreting results.\n",
        "\n",
        "### Problem Formulation\n",
        "When implementing linear regression of some dependent variable 𝑦 on the set of independent variables 𝐱 = (𝑥₁, …, 𝑥ᵣ), where 𝑟 is the number of predictors, you assume a linear relationship between 𝑦 and 𝐱: 𝑦 = 𝛽₀ + 𝛽₁𝑥₁ + ⋯ + 𝛽ᵣ𝑥ᵣ + 𝜀. This equation is the **regression equation**. 𝛽₀, 𝛽₁, …, 𝛽ᵣ are the **regression coefficients**, and 𝜀 is the **random error**.\n",
        "\n",
        "Linear regression calculates the **estimators** of the regression coefficients or simply the **predicted weights**, denoted with 𝑏₀, 𝑏₁, …, 𝑏ᵣ. They define the **estimated regression function** 𝑓(𝐱) = 𝑏₀ + 𝑏₁𝑥₁ + ⋯ + 𝑏ᵣ𝑥ᵣ. This function should capture the dependencies between the inputs and output sufficiently well.\n",
        "\n",
        "The **estimated** or **predicted response**, 𝑓(𝐱ᵢ), for each observation 𝑖 = 1, …, 𝑛, should be as close as possible to the corresponding **actual response** 𝑦ᵢ. The differences 𝑦ᵢ - 𝑓(𝐱ᵢ) for all observations 𝑖 = 1, …, 𝑛, are called the **residuals**. Regression is about determining the **best predicted weights**, that is the weights corresponding to the smallest residuals.\n",
        "\n",
        "To get the best weights, you usually **minimize the sum of squared residuals** (SSR) for all observations 𝑖 = 1, …, 𝑛: SSR = Σᵢ(𝑦ᵢ - 𝑓(𝐱ᵢ))². This approach is called the method of **ordinary least squares**.\n",
        "\n",
        "### Regression Performance\n",
        "\n",
        "The variation of actual responses 𝑦ᵢ, 𝑖 = 1, …, 𝑛, occurs partly due to the dependence on the predictors 𝐱ᵢ. However, there is also an additional inherent variance of the output.\n",
        "\n",
        "The **coefficient of determination**, denoted as 𝑅², tells you which amount of variation in 𝑦 can be explained by the dependence on 𝐱 using the particular regression model. Larger 𝑅² indicates a better fit and means that the model can better explain the variation of the output with different inputs.\n",
        "\n",
        "The value 𝑅² = 1 corresponds to SSR = 0, that is to the **perfect fit** since the values of predicted and actual responses fit completely to each other.\n",
        "\n",
        "### Simple Linear Regression\n",
        "\n",
        "Simple or single-variate linear regression is the simplest case of linear regression with a single independent variable, 𝐱 = 𝑥.\n",
        "\n",
        "The following figure illustrates simple linear regression:\n",
        "![alt text](https://files.realpython.com/media/fig-lin-reg.a506035b654a.png)\n",
        "\n",
        "When implementing simple linear regression, you typically start with a given set of input-output (𝑥-𝑦) pairs (green circles). These pairs are your observations. For example, the leftmost observation (green circle) has the input 𝑥 = 5 and the actual output (response) 𝑦 = 5. The next one has 𝑥 = 15 and 𝑦 = 20, and so on.\n",
        "\n",
        "The estimated regression function (black line) has the equation 𝑓(𝑥) = 𝑏₀ + 𝑏₁𝑥. Your goal is to calculate the optimal values of the predicted weights 𝑏₀ and 𝑏₁ that minimize SSR and determine the estimated regression function. The value of 𝑏₀, also called the **intercept**, shows the point where the estimated regression line crosses the 𝑦 axis. It is the value of the estimated response 𝑓(𝑥) for 𝑥 = 0. The value of 𝑏₁ determines the **slope** of the estimated regression line.\n",
        "\n",
        "The predicted responses (red squares) are the points on the regression line that correspond to the input values. For example, for the input 𝑥 = 5, the predicted response is 𝑓(5) = 8.33 (represented with the leftmost red square).\n",
        "\n",
        "The residuals (vertical dashed gray lines) can be calculated as 𝑦ᵢ - 𝑓(𝐱ᵢ) = 𝑦ᵢ - 𝑏₀ - 𝑏₁𝑥ᵢ for 𝑖 = 1, …, 𝑛. They are the distances between the green circles and red squares. When you implement linear regression, you are actually trying to minimize these distances and make the red squares as close to the predefined green circles as possible.\n",
        "\n",
        "### Multiple Linear Regression\n",
        "\n",
        "Multiple or multivariate linear regression is a case of linear regression with two or more independent variables.\n",
        "\n",
        "If there are just two independent variables, the estimated regression function is 𝑓(𝑥₁, 𝑥₂) = 𝑏₀ + 𝑏₁𝑥₁ + 𝑏₂𝑥₂. It represents a regression plane in a three-dimensional space. The goal of regression is to determine the values of the weights 𝑏₀, 𝑏₁, and 𝑏₂ such that this plane is as close as possible to the actual responses and yield the minimal SSR.\n",
        "\n",
        "The case of more than two independent variables is similar, but more general. The estimated regression function is 𝑓(𝑥₁, …, 𝑥ᵣ) = 𝑏₀ + 𝑏₁𝑥₁ + ⋯ +𝑏ᵣ𝑥ᵣ, and there are 𝑟 + 1 weights to be determined when the number of inputs is 𝑟.\n",
        "\n",
        "### Polynomial Regression\n",
        "\n",
        "You can regard polynomial regression as a generalized case of linear regression. You assume the polynomial dependence between the output and inputs and, consequently, the polynomial estimated regression function.\n",
        "\n",
        "In other words, in addition to linear terms like 𝑏₁𝑥₁, your regression function 𝑓 can include non-linear terms such as 𝑏₂𝑥₁², 𝑏₃𝑥₁³, or even 𝑏₄𝑥₁𝑥₂, 𝑏₅𝑥₁²𝑥₂, and so on.\n",
        "\n",
        "The simplest example of polynomial regression has a single independent variable, and the estimated regression function is a polynomial of degree 2: 𝑓(𝑥) = 𝑏₀ + 𝑏₁𝑥 + 𝑏₂𝑥².\n",
        "\n",
        "Now, remember that you want to calculate 𝑏₀, 𝑏₁, and 𝑏₂, which minimize SSR. These are your unknowns!\n",
        "\n",
        "Keeping this in mind, compare the previous regression function with the function 𝑓(𝑥₁, 𝑥₂) = 𝑏₀ + 𝑏₁𝑥₁ + 𝑏₂𝑥₂ used for linear regression. They look very similar and are both linear functions of the unknowns 𝑏₀, 𝑏₁, and 𝑏₂. This is why you can **solve the polynomial regression problem as a linear problem** with the term 𝑥² regarded as an input variable.\n",
        "\n",
        "In the case of two variables and the polynomial of degree 2, the regression function has this form: 𝑓(𝑥₁, 𝑥₂) = 𝑏₀ + 𝑏₁𝑥₁ + 𝑏₂𝑥₂ + 𝑏₃𝑥₁² + 𝑏₄𝑥₁𝑥₂ + 𝑏₅𝑥₂². The procedure for solving the problem is identical to the previous case. You apply linear regression for five inputs: 𝑥₁, 𝑥₂, 𝑥₁², 𝑥₁𝑥₂, and 𝑥₂². What you get as the result of regression are the values of six weights which minimize SSR: 𝑏₀, 𝑏₁, 𝑏₂, 𝑏₃, 𝑏₄, and 𝑏₅.\n",
        "\n",
        "Of course, there are more general problems, but this should be enough to illustrate the point.\n",
        "\n",
        "### Underfitting and Overfitting\n",
        "\n",
        "One very important question that might arise when you’re implementing polynomial regression is related to **the choice of the optimal degree of the polynomial regression function**.\n",
        "\n",
        "There is no straightforward rule for doing this. It depends on the case. You should, however, be aware of two problems that might follow the choice of the degree: **underfitting** and **overfitting**.\n",
        "\n",
        "**Underfitting** occurs when a model can’t accurately capture the dependencies among data, usually as a consequence of its own simplicity. It often yields a low 𝑅² with known data and bad generalization capabilities when applied with new data.\n",
        "\n",
        "**Overfitting** happens when a model learns both dependencies among data and random fluctuations. In other words, a model learns the existing data too well. Complex models, which have many features or terms, are often prone to overfitting. When applied to known data, such models usually yield high 𝑅². However, they often don’t generalize well and have significantly lower 𝑅² when used with new data.\n",
        "\n",
        "The next figure illustrates the underfitted, well-fitted, and overfitted models:\n",
        "\n",
        "![alt text](https://files.realpython.com/media/poly-reg.5790f47603d8.png)\n",
        "\n",
        "The top left plot shows a linear regression line that has a low 𝑅². It might also be important that a straight line can’t take into account the fact that the actual response increases as 𝑥 moves away from 25 towards zero. This is likely an example of underfitting.\n",
        "\n",
        "The top right plot illustrates polynomial regression with the degree equal to 2. In this instance, this might be the optimal degree for modeling this data. The model has a value of 𝑅² that is satisfactory in many cases and shows trends nicely.\n",
        "\n",
        "The bottom left plot presents polynomial regression with the degree equal to 3. The value of 𝑅² is higher than in the preceding cases. This model behaves better with known data than the previous ones. However, it shows some signs of overfitting, especially for the input values close to 60 where the line starts decreasing, although actual data don’t show that.\n",
        "\n",
        "Finally, on the bottom right plot, you can see the perfect fit: six points and the polynomial line of the degree 5 (or higher) yield 𝑅² = 1. Each actual response equals its corresponding prediction.\n",
        "\n",
        "In some situations, this might be exactly what you’re looking for. In many cases, however, this is an overfitted model. It is likely to have poor behavior with unseen data, especially with the inputs larger than 50.\n",
        "\n",
        "For example, it assumes, without any evidence, that there is a significant drop in responses for 𝑥 > 50 and that 𝑦 reaches zero for 𝑥 near 60. Such behavior is the consequence of excessive effort to learn and fit the existing data.\n",
        "\n",
        "There are a lot of resources where you can find more information about regression in general and linear regression in particular. \n",
        "[The regression analysis page on Wikipedia](https://en.wikipedia.org/wiki/Regression_analysis), [Wikipedia’s linear regression article](https://en.wikipedia.org/wiki/Linear_regression), as well as [Khan Academy’s linear regression article](https://www.khanacademy.org/math/statistics-probability/describing-relationships-quantitative-data/introduction-to-trend-lines/a/linear-regression-review) are good starting points.\n",
        "\n"
      ]
    },
    {
      "cell_type": "markdown",
      "metadata": {
        "id": "26JV-04uuaIQ",
        "colab_type": "text"
      },
      "source": [
        "# Implementing Linear Regression in Python\n",
        "\n",
        "### Simple Linear Regression With scikit-learn\n",
        "\n",
        "Let’s start with the simplest case, which is simple linear regression.\n",
        "\n",
        "There are five basic steps when you’re implementing linear regression:\n",
        "\n",
        "1.   Import the packages and classes you need.\n",
        "2.   Provide data to work with and eventually do appropriate transformations.\n",
        "3.   Create a regression model and fit it with existing data.\n",
        "4.   Check the results of model fitting to know whether the model is     satisfactory.\n",
        "5.   Apply the model for predictions.\n",
        "\n",
        "These steps are more or less general for most of the regression approaches and implementations."
      ]
    },
    {
      "cell_type": "markdown",
      "metadata": {
        "id": "lMhhhrIwvJx5",
        "colab_type": "text"
      },
      "source": [
        "### Step 1: Import packages and classes\n",
        "\n",
        "The first step is to import the package numpy and the class LinearRegression from sklearn.linear_model:\n"
      ]
    },
    {
      "cell_type": "code",
      "metadata": {
        "id": "yAO4YOjyk3ei",
        "colab_type": "code",
        "colab": {}
      },
      "source": [
        "import numpy as np\n",
        "from sklearn.linear_model import LinearRegression\n"
      ],
      "execution_count": 0,
      "outputs": []
    },
    {
      "cell_type": "markdown",
      "metadata": {
        "id": "02NEQFzgvdyc",
        "colab_type": "text"
      },
      "source": [
        "The class sklearn.linear_model.LinearRegression will be used to perform linear and polynomial regression and make predictions accordingly."
      ]
    },
    {
      "cell_type": "markdown",
      "metadata": {
        "id": "dGpwdZUvvfSW",
        "colab_type": "text"
      },
      "source": [
        "### Step 2: Provide data\n",
        "\n",
        "The second step is defining data to work with. The inputs (regressors, 𝑥) and output (predictor, 𝑦) should be arrays (the instances of the class numpy.ndarray) or similar objects. This is the simplest way of providing data for regression:\n"
      ]
    },
    {
      "cell_type": "code",
      "metadata": {
        "id": "2ZP82IL3vkrk",
        "colab_type": "code",
        "colab": {}
      },
      "source": [
        "x = np.array([5, 15, 25, 35, 45, 55]).reshape((-1, 1))\n",
        "y = np.array([5, 20, 14, 32, 22, 38])"
      ],
      "execution_count": 0,
      "outputs": []
    },
    {
      "cell_type": "markdown",
      "metadata": {
        "id": "ojTE_SPyvnHK",
        "colab_type": "text"
      },
      "source": [
        "Now, you have two arrays: the input x and output y. You should call .reshape() on x because this array is required to be two-dimensional, or to be more precise, to have one column and as many rows as necessary. That’s exactly what the argument (-1, 1) of .reshape() specifies.\n",
        "\n",
        "This is how x and y look now:"
      ]
    },
    {
      "cell_type": "code",
      "metadata": {
        "id": "jj8yeuOUv3Zh",
        "colab_type": "code",
        "colab": {}
      },
      "source": [
        "print(x)\n",
        "print(y)"
      ],
      "execution_count": 0,
      "outputs": []
    },
    {
      "cell_type": "markdown",
      "metadata": {
        "id": "eJI__ZZjv8D9",
        "colab_type": "text"
      },
      "source": [
        "As you can see, x has two dimensions, and x.shape is (6, 1), while y has a single dimension, and y.shape is (6,)."
      ]
    },
    {
      "cell_type": "markdown",
      "metadata": {
        "id": "V3JlhwA9wAZR",
        "colab_type": "text"
      },
      "source": [
        "### Step 3: Create a model and fit it\n",
        "The next step is to create a linear regression model and fit it using the existing data.\n",
        "Let’s create an instance of the class LinearRegression, which will represent the regression model:"
      ]
    },
    {
      "cell_type": "code",
      "metadata": {
        "id": "W2jBIUZAwHND",
        "colab_type": "code",
        "colab": {}
      },
      "source": [
        "model = LinearRegression()"
      ],
      "execution_count": 0,
      "outputs": []
    },
    {
      "cell_type": "markdown",
      "metadata": {
        "id": "WuLngT0_wKaE",
        "colab_type": "text"
      },
      "source": [
        "This statement creates the variable model as the instance of LinearRegression. You can provide several optional parameters to LinearRegression:\n",
        "\n",
        "- **fit_intercept** is a Boolean (True by default) that decides whether to calculate the intercept 𝑏₀ (True) or consider it equal to zero (False).\n",
        "- **normaliz** is a Boolean (False by default) that decides whether to normalize the input variables (True) or not (False).\n",
        "- **copy_X** is a Boolean (True by default) that decides whether to copy (True) or overwrite the input variables (False).\n",
        "- **n_jobs** is an integer or None (default) and represents the number of jobs used in parallel computation. None usually means one job and -1 to use all processors.\n",
        "This example uses the default values of all parameters.\n",
        "It’s time to start using the model. First, you need to call .fit() on model:"
      ]
    },
    {
      "cell_type": "code",
      "metadata": {
        "id": "NrhOmS83zdyl",
        "colab_type": "code",
        "colab": {}
      },
      "source": [
        "model.fit(x, y)"
      ],
      "execution_count": 0,
      "outputs": []
    },
    {
      "cell_type": "markdown",
      "metadata": {
        "id": "elRmGbquzgZJ",
        "colab_type": "text"
      },
      "source": [
        "With .fit(), you calculate the optimal values of the weights 𝑏₀ and 𝑏₁, using the existing input and output (x and y) as the arguments. In other words, .fit() **fits the model**. It returns self, which is the variable model itself. That’s why you can replace the last two statements with this one:\n"
      ]
    },
    {
      "cell_type": "code",
      "metadata": {
        "id": "LmzvJ32gz0yo",
        "colab_type": "code",
        "colab": {}
      },
      "source": [
        "model = LinearRegression().fit(x, y)"
      ],
      "execution_count": 0,
      "outputs": []
    },
    {
      "cell_type": "markdown",
      "metadata": {
        "id": "443xonK2z3DC",
        "colab_type": "text"
      },
      "source": [
        "This statement does the same thing as the previous two. It’s just shorter."
      ]
    },
    {
      "cell_type": "markdown",
      "metadata": {
        "id": "Bzdn45_Dz7KO",
        "colab_type": "text"
      },
      "source": [
        "### Step 4: Get results\n",
        "\n",
        "Once you have your model fitted, you can get the results to check whether the model works satisfactorily and interpret it.\n",
        "You can obtain the coefficient of determination (𝑅²) with .score() called on model:\n"
      ]
    },
    {
      "cell_type": "code",
      "metadata": {
        "id": "DupoIEHT0Id_",
        "colab_type": "code",
        "colab": {}
      },
      "source": [
        "r_sq = model.score(x, y)\n",
        "print('coefficient of determination:', r_sq)"
      ],
      "execution_count": 0,
      "outputs": []
    },
    {
      "cell_type": "markdown",
      "metadata": {
        "id": "t0wEmQpJ0Mz8",
        "colab_type": "text"
      },
      "source": [
        "When you’re applying .score(), the arguments are also the predictor x and regressor y, and the return value is 𝑅².\n",
        "\n",
        "The attributes of model are .intercept_, which represents the coefficient, 𝑏₀ and .coef_, which represents 𝑏₁:"
      ]
    },
    {
      "cell_type": "code",
      "metadata": {
        "id": "DTwEwTQ10N5I",
        "colab_type": "code",
        "colab": {}
      },
      "source": [
        "print('intercept:', model.intercept_)\n",
        "print('slope:', model.coef_)"
      ],
      "execution_count": 0,
      "outputs": []
    },
    {
      "cell_type": "markdown",
      "metadata": {
        "id": "BFN9XNGr0UW9",
        "colab_type": "text"
      },
      "source": [
        "The code above illustrates how to get 𝑏₀ and 𝑏₁. You can notice that .intercept_ is a scalar, while .coef_ is an array.\n",
        "\n",
        "The value 𝑏₀ = 5.63 (approximately) illustrates that your model predicts the response 5.63 when 𝑥 is zero. The value 𝑏₁ = 0.54 means that the predicted response rises by 0.54 when 𝑥 is increased by one.\n",
        "\n",
        "You should notice that you can provide y as a two-dimensional array as well. In this case, you’ll get a similar result. This is how it might look:"
      ]
    },
    {
      "cell_type": "code",
      "metadata": {
        "id": "1BhMbCFY0cJA",
        "colab_type": "code",
        "colab": {}
      },
      "source": [
        "new_model = LinearRegression().fit(x, y.reshape((-1, 1)))\n",
        "print('intercept:', new_model.intercept_)\n",
        "print('slope:', new_model.coef_)"
      ],
      "execution_count": 0,
      "outputs": []
    },
    {
      "cell_type": "markdown",
      "metadata": {
        "id": "gQphnyPI0jV7",
        "colab_type": "text"
      },
      "source": [
        "As you can see, this example is very similar to the previous one, but in this case, .intercept_ is a one-dimensional array with the single element 𝑏₀, and .coef_ is a two-dimensional array with the single element 𝑏₁."
      ]
    },
    {
      "cell_type": "markdown",
      "metadata": {
        "id": "_cEid2C40mhv",
        "colab_type": "text"
      },
      "source": [
        "### Step 5: Predict response\n",
        "\n",
        "Once there is a satisfactory model, you can use it for predictions with either existing or new data.\n",
        "\n",
        "To obtain the predicted response, use .predict():\n"
      ]
    },
    {
      "cell_type": "code",
      "metadata": {
        "id": "yXJg0jsr0lzW",
        "colab_type": "code",
        "colab": {}
      },
      "source": [
        "y_pred = model.predict(x)\n",
        "print('predicted response:', y_pred, sep='\\n')"
      ],
      "execution_count": 0,
      "outputs": []
    },
    {
      "cell_type": "markdown",
      "metadata": {
        "id": "0X8SJng803SW",
        "colab_type": "text"
      },
      "source": [
        "When applying .predict(), you pass the regressor as the argument and get the corresponding predicted response.\n",
        "\n",
        "This is a nearly identical way to predict the response:"
      ]
    },
    {
      "cell_type": "code",
      "metadata": {
        "id": "L7UH9c2g08Ql",
        "colab_type": "code",
        "colab": {}
      },
      "source": [
        "y_pred = model.intercept_ + model.coef_ * x\n",
        "print('predicted response:', y_pred, sep='\\n')"
      ],
      "execution_count": 0,
      "outputs": []
    },
    {
      "cell_type": "markdown",
      "metadata": {
        "id": "qDUpGwkj1BAO",
        "colab_type": "text"
      },
      "source": [
        "In this case, you multiply each element of x with model.coef_ and add model.intercept_ to the product.\n",
        "\n",
        "The output here differs from the previous example only in dimensions. The predicted response is now a two-dimensional array, while in the previous case, it had one dimension.\n",
        "\n",
        "If you reduce the number of dimensions of x to one, these two approaches will yield the same result. You can do this by replacing x with x.reshape(-1), x.flatten(), or x.ravel() when multiplying it with model.coef_.\n",
        "\n",
        "In practice, regression models are often applied for forecasts. This means that you can use fitted models to calculate the outputs based on some other, new inputs:"
      ]
    },
    {
      "cell_type": "code",
      "metadata": {
        "id": "TT04ItM51DxF",
        "colab_type": "code",
        "colab": {}
      },
      "source": [
        "x_new = np.arange(5).reshape((-1, 1))\n",
        "print(x_new)"
      ],
      "execution_count": 0,
      "outputs": []
    },
    {
      "cell_type": "code",
      "metadata": {
        "id": "N7q5Fefl1HWp",
        "colab_type": "code",
        "colab": {}
      },
      "source": [
        "y_new = model.predict(x_new)\n",
        "print(y_new)"
      ],
      "execution_count": 0,
      "outputs": []
    },
    {
      "cell_type": "markdown",
      "metadata": {
        "id": "FH8lG-vv1QeA",
        "colab_type": "text"
      },
      "source": [
        "Here .predict() is applied to the new regressor x_new and yields the response y_new. This example conveniently uses arange() from numpy to generate an array with the elements from 0 (inclusive) to 5 (exclusive), that is 0, 1, 2, 3, and 4.\n",
        "You can find more information about LinearRegression on [the official documentation page.](https://scikit-learn.org/stable/modules/generated/sklearn.linear_model.LinearRegression.html)\n"
      ]
    },
    {
      "cell_type": "markdown",
      "metadata": {
        "id": "DBco8sdu1Z3Q",
        "colab_type": "text"
      },
      "source": [
        "### Multiple Linear Regression With scikit-learn\n",
        "\n",
        "You can implement multiple linear regression following the same steps as you would for simple regression.\n",
        "\n",
        "### Steps 1 and 2: Import packages and classes, and provide data\n",
        "First, you import numpy and sklearn.linear_model.LinearRegression and provide known inputs and output:"
      ]
    },
    {
      "cell_type": "code",
      "metadata": {
        "id": "mfEvtY7u1r7C",
        "colab_type": "code",
        "colab": {}
      },
      "source": [
        "import numpy as np\n",
        "from sklearn.linear_model import LinearRegression\n",
        "\n",
        "x = [[0, 1], [5, 1], [15, 2], [25, 5], [35, 11], [45, 15], [55, 34], [60, 35]]\n",
        "y = [4, 5, 20, 14, 32, 22, 38, 43]\n",
        "x, y = np.array(x), np.array(y)"
      ],
      "execution_count": 0,
      "outputs": []
    },
    {
      "cell_type": "markdown",
      "metadata": {
        "id": "N7HbUlqY1wTl",
        "colab_type": "text"
      },
      "source": [
        "That’s a simple way to define the input x and output y. You can print x and y to see how they look now:\n"
      ]
    },
    {
      "cell_type": "code",
      "metadata": {
        "id": "kDEVvSgo1ygu",
        "colab_type": "code",
        "colab": {}
      },
      "source": [
        "print(x)\n",
        "print(y)"
      ],
      "execution_count": 0,
      "outputs": []
    },
    {
      "cell_type": "markdown",
      "metadata": {
        "id": "OaGnb8YW125J",
        "colab_type": "text"
      },
      "source": [
        "In multiple linear regression, x is a two-dimensional array with at least two columns, while y is usually a one-dimensional array. This is a simple example of multiple linear regression, and x has exactly two columns."
      ]
    },
    {
      "cell_type": "markdown",
      "metadata": {
        "id": "7tIvBr7p15Hy",
        "colab_type": "text"
      },
      "source": [
        "### Step 3: Create a model and fit it\n",
        "\n",
        "The next step is to create the regression model as an instance of LinearRegression and fit it with .fit():"
      ]
    },
    {
      "cell_type": "code",
      "metadata": {
        "id": "2F_5TTVy19oM",
        "colab_type": "code",
        "colab": {}
      },
      "source": [
        "model = LinearRegression().fit(x, y)"
      ],
      "execution_count": 0,
      "outputs": []
    },
    {
      "cell_type": "markdown",
      "metadata": {
        "id": "cfD9hEA61_hN",
        "colab_type": "text"
      },
      "source": [
        "The result of this statement is the variable model referring to the object of type LinearRegression. It represents the regression model fitted with existing data."
      ]
    },
    {
      "cell_type": "markdown",
      "metadata": {
        "id": "YD7RujuR2BYb",
        "colab_type": "text"
      },
      "source": [
        "### Step 4: Get results\n",
        "\n",
        "You can obtain the properties of the model the same way as in the case of simple linear regression:\n",
        "\n"
      ]
    },
    {
      "cell_type": "code",
      "metadata": {
        "id": "M8WlXTxI2J6n",
        "colab_type": "code",
        "colab": {}
      },
      "source": [
        "r_sq = model.score(x, y)\n",
        "print('coefficient of determination:', r_sq)\n",
        "print('intercept:', model.intercept_)\n",
        "print('slope:', model.coef_)"
      ],
      "execution_count": 0,
      "outputs": []
    },
    {
      "cell_type": "markdown",
      "metadata": {
        "id": "pa3cqeog2QfQ",
        "colab_type": "text"
      },
      "source": [
        "You obtain the value of 𝑅² using .score() and the values of the estimators of regression coefficients with .intercept_ and .coef_. Again, .intercept_ holds the bias 𝑏₀, while now .coef_ is an array containing 𝑏₁ and 𝑏₂ respectively.\n",
        "In this example, the intercept is approximately 5.52, and this is the value of the predicted response when 𝑥₁ = 𝑥₂ = 0. The increase of 𝑥₁ by 1 yields the rise of the predicted response by 0.45. Similarly, when 𝑥₂ grows by 1, the response rises by 0.26."
      ]
    },
    {
      "cell_type": "markdown",
      "metadata": {
        "id": "J_k8DrH32W0F",
        "colab_type": "text"
      },
      "source": [
        "### Step 5: Predict response\n",
        "\n",
        "Predictions also work the same way as in the case of simple linear regression:\n"
      ]
    },
    {
      "cell_type": "code",
      "metadata": {
        "id": "jM2SyJX02VEf",
        "colab_type": "code",
        "colab": {}
      },
      "source": [
        "y_pred = model.predict(x)\n",
        "print('predicted response:', y_pred, sep='\\n')"
      ],
      "execution_count": 0,
      "outputs": []
    },
    {
      "cell_type": "markdown",
      "metadata": {
        "id": "4NXRmkOD2gYg",
        "colab_type": "text"
      },
      "source": [
        "The predicted response is obtained with .predict(), which is very similar to the following:"
      ]
    },
    {
      "cell_type": "code",
      "metadata": {
        "id": "ousQ65gH2il3",
        "colab_type": "code",
        "colab": {}
      },
      "source": [
        "y_pred = model.intercept_ + np.sum(model.coef_ * x, axis=1)\n",
        "print('predicted response:', y_pred, sep='\\n')"
      ],
      "execution_count": 0,
      "outputs": []
    },
    {
      "cell_type": "markdown",
      "metadata": {
        "id": "BwJxAtve2lzM",
        "colab_type": "text"
      },
      "source": [
        "You can predict the output values by multiplying each column of the input with the appropriate weight, summing the results and adding the intercept to the sum.\n",
        "\n",
        "You can apply this model to new data as well:"
      ]
    },
    {
      "cell_type": "code",
      "metadata": {
        "id": "tETVtqaw2n_a",
        "colab_type": "code",
        "colab": {}
      },
      "source": [
        "x_new = np.arange(10).reshape((-1, 2))\n",
        "print(x_new)"
      ],
      "execution_count": 0,
      "outputs": []
    },
    {
      "cell_type": "code",
      "metadata": {
        "id": "elbnEYaJ2roG",
        "colab_type": "code",
        "colab": {}
      },
      "source": [
        "y_new = model.predict(x_new)\n",
        "print(y_new)"
      ],
      "execution_count": 0,
      "outputs": []
    },
    {
      "cell_type": "markdown",
      "metadata": {
        "id": "CNC33AcE2xig",
        "colab_type": "text"
      },
      "source": [
        "### Polynomial Regression With scikit-learn\n",
        "\n",
        "Implementing polynomial regression with scikit-learn is very similar to linear regression. There is only one extra step: you need to transform the array of inputs to include non-linear terms such as 𝑥².\n",
        "\n",
        "### Step 1: Import packages and classes\n",
        "\n",
        "In addition to numpy and sklearn.linear_model.LinearRegression, you should also import the class PolynomialFeatures from sklearn.preprocessing:"
      ]
    },
    {
      "cell_type": "code",
      "metadata": {
        "id": "TMchXnJi279a",
        "colab_type": "code",
        "colab": {}
      },
      "source": [
        "import numpy as np\n",
        "from sklearn.linear_model import LinearRegression\n",
        "from sklearn.preprocessing import PolynomialFeatures"
      ],
      "execution_count": 0,
      "outputs": []
    },
    {
      "cell_type": "markdown",
      "metadata": {
        "id": "zETlBG2L3Alt",
        "colab_type": "text"
      },
      "source": [
        "### Step 2a: Provide data\n",
        "\n",
        "This step defines the input and output and is the same as in the case of linear regression:"
      ]
    },
    {
      "cell_type": "code",
      "metadata": {
        "id": "233-tfEw3EDm",
        "colab_type": "code",
        "colab": {}
      },
      "source": [
        "x = np.array([5, 15, 25, 35, 45, 55]).reshape((-1, 1))\n",
        "y = np.array([15, 11, 2, 8, 25, 32])"
      ],
      "execution_count": 0,
      "outputs": []
    },
    {
      "cell_type": "markdown",
      "metadata": {
        "id": "iX1VVTrY3FxP",
        "colab_type": "text"
      },
      "source": [
        "Now you have the input and output in a suitable format. Keep in mind that you need the input to be a two-dimensional array. That’s why .reshape() is used."
      ]
    },
    {
      "cell_type": "markdown",
      "metadata": {
        "id": "1vXX53JA3KFu",
        "colab_type": "text"
      },
      "source": [
        "### Step 2b: Transform input data\n",
        "\n",
        "This is the **new step** you need to implement for polynomial regression!\n",
        "\n",
        "As you’ve seen earlier, you need to include 𝑥² (and perhaps other terms) as additional features when implementing polynomial regression. For that reason, you should transform the input array x to contain the additional column(s) with the values of 𝑥² (and eventually more features).\n",
        "\n",
        "It’s possible to transform the input array in several ways (like using insert() from numpy), but the class PolynomialFeatures is very convenient for this purpose. Let’s create an instance of this class:"
      ]
    },
    {
      "cell_type": "code",
      "metadata": {
        "id": "D8CTOBB73H9E",
        "colab_type": "code",
        "colab": {}
      },
      "source": [
        "transformer = PolynomialFeatures(degree=2, include_bias=False)"
      ],
      "execution_count": 0,
      "outputs": []
    },
    {
      "cell_type": "markdown",
      "metadata": {
        "id": "BCws8MU73Rqg",
        "colab_type": "text"
      },
      "source": [
        "The variable transformer refers to an instance of PolynomialFeatures which you can use to transform the input x.\n",
        "\n",
        "You can provide several optional parameters to PolynomialFeatures:\n",
        "\n",
        "- **degree** is an integer (2 by default) that represents the degree of the polynomial regression function.\n",
        "- **interaction_only** is a Boolean (False by default) that decides whether to include only interaction features (True) or all features (False).\n",
        "- **include_bias** is a Boolean (True by default) that decides whether to include the bias (intercept) column of ones (True) or not (False).\n",
        "This example uses the default values of all parameters, but you’ll sometimes want to experiment with the degree of the function, and it can be beneficial to provide this argument anyway.\n",
        "\n",
        "Before applying transformer, you need to fit it with .fit():"
      ]
    },
    {
      "cell_type": "code",
      "metadata": {
        "id": "Q-osNoYW3e2f",
        "colab_type": "code",
        "colab": {}
      },
      "source": [
        "transformer.fit(x)"
      ],
      "execution_count": 0,
      "outputs": []
    },
    {
      "cell_type": "markdown",
      "metadata": {
        "id": "WgeVLn8F3hH4",
        "colab_type": "text"
      },
      "source": [
        "Once transformer is fitted, it’s ready to create a new, modified input. You apply .transform() to do that:"
      ]
    },
    {
      "cell_type": "code",
      "metadata": {
        "id": "c0-eHyP-3i4p",
        "colab_type": "code",
        "colab": {}
      },
      "source": [
        "x_ = transformer.transform(x)"
      ],
      "execution_count": 0,
      "outputs": []
    },
    {
      "cell_type": "markdown",
      "metadata": {
        "id": "7hZhNmVd3k2i",
        "colab_type": "text"
      },
      "source": [
        "That’s the transformation of the input array with .transform(). It takes the input array as the argument and returns the modified array.\n",
        "\n",
        "You can also use .fit_transform() to replace the three previous statements with only one:"
      ]
    },
    {
      "cell_type": "code",
      "metadata": {
        "id": "qXWRkyZ73pmW",
        "colab_type": "code",
        "colab": {}
      },
      "source": [
        "x_ = PolynomialFeatures(degree=2, include_bias=False).fit_transform(x)"
      ],
      "execution_count": 0,
      "outputs": []
    },
    {
      "cell_type": "markdown",
      "metadata": {
        "id": "4U-4_hxd3qeP",
        "colab_type": "text"
      },
      "source": [
        "That’s fitting and transforming the input array in one statement with .fit_transform(). It also takes the input array and effectively does the same thing as .fit() and .transform() called in that order. It also returns the modified array. This is how the new input array looks:"
      ]
    },
    {
      "cell_type": "code",
      "metadata": {
        "id": "9t0uxePl3sq3",
        "colab_type": "code",
        "colab": {}
      },
      "source": [
        "print(x_)"
      ],
      "execution_count": 0,
      "outputs": []
    },
    {
      "cell_type": "markdown",
      "metadata": {
        "id": "yix3f2mQ3uCF",
        "colab_type": "text"
      },
      "source": [
        "The modified input array contains two columns: one with the original inputs and the other with their squares.\n",
        "\n",
        "You can find more information about PolynomialFeatures on [the official documentation page.](https://scikit-learn.org/stable/modules/generated/sklearn.preprocessing.PolynomialFeatures.html)\n",
        "\n"
      ]
    },
    {
      "cell_type": "markdown",
      "metadata": {
        "id": "yjvI6hTF37fz",
        "colab_type": "text"
      },
      "source": [
        "### Step 3: Create a model and fit it\n",
        "\n",
        "This step is also the same as in the case of linear regression. You create and fit the model:"
      ]
    },
    {
      "cell_type": "code",
      "metadata": {
        "id": "XQpQku8L3-_J",
        "colab_type": "code",
        "colab": {}
      },
      "source": [
        "model = LinearRegression().fit(x_, y)"
      ],
      "execution_count": 0,
      "outputs": []
    },
    {
      "cell_type": "markdown",
      "metadata": {
        "id": "Pwd4-t6Q3_4Q",
        "colab_type": "text"
      },
      "source": [
        "The regression model is now created and fitted. It’s ready for application.\n",
        "\n",
        "You should keep in mind that the first argument of .fit() is the modified input array x_ and not the original x."
      ]
    },
    {
      "cell_type": "markdown",
      "metadata": {
        "id": "TKi-I0ew4Bpt",
        "colab_type": "text"
      },
      "source": [
        "### Step 4: Get results\n",
        "\n",
        "You can obtain the properties of the model the same way as in the case of linear regression:"
      ]
    },
    {
      "cell_type": "code",
      "metadata": {
        "id": "YfdmNj5K4IKf",
        "colab_type": "code",
        "colab": {}
      },
      "source": [
        "r_sq = model.score(x_, y)\n",
        "print('coefficient of determination:', r_sq)\n",
        "print('intercept:', model.intercept_)\n",
        "print('coefficients:', model.coef_)"
      ],
      "execution_count": 0,
      "outputs": []
    },
    {
      "cell_type": "markdown",
      "metadata": {
        "id": "VmxYQPGc4PWt",
        "colab_type": "text"
      },
      "source": [
        "Again, .score() returns 𝑅². Its first argument is also the modified input x_, not x. The values of the weights are associated to .intercept_ and .coef_: .intercept_ represents 𝑏₀, while .coef_ references the array that contains 𝑏₁ and 𝑏₂ respectively.\n",
        "\n",
        "You can obtain a very similar result with different transformation and regression arguments:"
      ]
    },
    {
      "cell_type": "code",
      "metadata": {
        "id": "7t9ku8fL4RoW",
        "colab_type": "code",
        "colab": {}
      },
      "source": [
        "x_ = PolynomialFeatures(degree=2, include_bias=True).fit_transform(x)"
      ],
      "execution_count": 0,
      "outputs": []
    },
    {
      "cell_type": "markdown",
      "metadata": {
        "id": "ubLGyIL-4UNI",
        "colab_type": "text"
      },
      "source": [
        "If you call PolynomialFeatures with the default parameter include_bias=True (or if you just omit it), you’ll obtain the new input array x_ with the additional leftmost column containing only ones. This column corresponds to the intercept. This is how the modified input array looks in this case:"
      ]
    },
    {
      "cell_type": "code",
      "metadata": {
        "id": "s9Vgt7OA4WRj",
        "colab_type": "code",
        "colab": {}
      },
      "source": [
        "print(x_)"
      ],
      "execution_count": 0,
      "outputs": []
    },
    {
      "cell_type": "markdown",
      "metadata": {
        "id": "r0yMhLuF4cFC",
        "colab_type": "text"
      },
      "source": [
        "The first column of x_ contains ones, the second has the values of x, while the third holds the squares of x.\n",
        "\n",
        "The intercept is already included with the leftmost column of ones, and you don’t need to include it again when creating the instance of LinearRegression. Thus, you can provide fit_intercept=False. This is how the next statement looks:"
      ]
    },
    {
      "cell_type": "code",
      "metadata": {
        "id": "anq1Jpbs4erd",
        "colab_type": "code",
        "colab": {}
      },
      "source": [
        "model = LinearRegression(fit_intercept=False).fit(x_, y)"
      ],
      "execution_count": 0,
      "outputs": []
    },
    {
      "cell_type": "markdown",
      "metadata": {
        "id": "T5lP6bpG4jRk",
        "colab_type": "text"
      },
      "source": [
        "The variable model again corresponds to the new input array x_. Therefore x_ should be passed as the first argument instead of x.\n",
        "\n",
        "This approach yields the following results, which are similar to the previous case:"
      ]
    },
    {
      "cell_type": "code",
      "metadata": {
        "id": "ONlOaiS74mFs",
        "colab_type": "code",
        "colab": {}
      },
      "source": [
        "r_sq = model.score(x_, y)\n",
        "print('coefficient of determination:', r_sq)\n",
        "print('intercept:', model.intercept_)\n",
        "print('coefficients:', model.coef_)"
      ],
      "execution_count": 0,
      "outputs": []
    },
    {
      "cell_type": "markdown",
      "metadata": {
        "id": "3_O7QFdl4srl",
        "colab_type": "text"
      },
      "source": [
        "You see that now .intercept_ is zero, but .coef_ actually contains 𝑏₀ as its first element. Everything else is the same."
      ]
    },
    {
      "cell_type": "markdown",
      "metadata": {
        "id": "IMomVJHa4vWM",
        "colab_type": "text"
      },
      "source": [
        "### Step 5: Predict response\n",
        "\n",
        "If you want to get the predicted response, just use .predict(), but remember that the argument should be the modified input x_ instead of the old x:"
      ]
    },
    {
      "cell_type": "code",
      "metadata": {
        "id": "H5pbmLpx4yfq",
        "colab_type": "code",
        "colab": {}
      },
      "source": [
        "y_pred = model.predict(x_)\n",
        "print('predicted response:', y_pred, sep='\\n')"
      ],
      "execution_count": 0,
      "outputs": []
    },
    {
      "cell_type": "markdown",
      "metadata": {
        "id": "eT7FSOj041uT",
        "colab_type": "text"
      },
      "source": [
        "As you can see, the prediction works almost the same way as in the case of linear regression. It just requires the modified input instead of the original.\n",
        "\n",
        "You can apply the identical procedure if you have **several input variables**. You’ll have an input array with more than one column, but everything else is the same. Here is an example:"
      ]
    },
    {
      "cell_type": "code",
      "metadata": {
        "id": "WV6k_FTu4-pN",
        "colab_type": "code",
        "colab": {}
      },
      "source": [
        "# Step 1: Import packages\n",
        "import numpy as np\n",
        "from sklearn.linear_model import LinearRegression\n",
        "from sklearn.preprocessing import PolynomialFeatures\n",
        "\n",
        "# Step 2a: Provide data\n",
        "x = [[0, 1], [5, 1], [15, 2], [25, 5], [35, 11], [45, 15], [55, 34], [60, 35]]\n",
        "y = [4, 5, 20, 14, 32, 22, 38, 43]\n",
        "x, y = np.array(x), np.array(y)\n",
        "\n",
        "# Step 2b: Transform input data\n",
        "x_ = PolynomialFeatures(degree=2, include_bias=False).fit_transform(x)\n",
        "\n",
        "# Step 3: Create a model and fit it\n",
        "model = LinearRegression().fit(x_, y)\n",
        "\n",
        "# Step 4: Get results\n",
        "r_sq = model.score(x_, y)\n",
        "intercept, coefficients = model.intercept_, model.coef_\n",
        "\n",
        "# Step 5: Predict\n",
        "y_pred = model.predict(x_)"
      ],
      "execution_count": 0,
      "outputs": []
    },
    {
      "cell_type": "markdown",
      "metadata": {
        "id": "F7kBsmmr5B-L",
        "colab_type": "text"
      },
      "source": [
        "This regression example yields the following results and predictions:"
      ]
    },
    {
      "cell_type": "code",
      "metadata": {
        "id": "1kAgqj2i5Eyi",
        "colab_type": "code",
        "colab": {}
      },
      "source": [
        "print('coefficient of determination:', r_sq)\n",
        "print('intercept:', intercept)\n",
        "print('coefficients:', coefficients, sep='\\n')\n",
        "print('predicted response:', y_pred, sep='\\n')"
      ],
      "execution_count": 0,
      "outputs": []
    },
    {
      "cell_type": "markdown",
      "metadata": {
        "id": "HpWPrh2R5LoE",
        "colab_type": "text"
      },
      "source": [
        "In this case, there are six regression coefficients (including the intercept), as shown in the estimated regression function 𝑓(𝑥₁, 𝑥₂) = 𝑏₀ + 𝑏₁𝑥₁ + 𝑏₂𝑥₂ + 𝑏₃𝑥₁² + 𝑏₄𝑥₁𝑥₂ + 𝑏₅𝑥₂².\n",
        "\n",
        "You can also notice that polynomial regression yielded a higher coefficient of determination than multiple linear regression for the same problem. At first, you could think that obtaining such a large 𝑅² is an excellent result. It might be.\n",
        "\n",
        "However, in real-world situations, having a complex model and 𝑅² very close to 1 might also be a sign of overfitting. To check the performance of a model, you should test it with new data, that is with observations not used to fit (train) the model."
      ]
    },
    {
      "cell_type": "markdown",
      "metadata": {
        "id": "vJmP4mMj5-b_",
        "colab_type": "text"
      },
      "source": [
        "### Advanced Linear Regression With statsmodels\n",
        "\n",
        "ou can implement linear regression in Python relatively easily by using the package statsmodels as well. Typically, this is desirable when there is a need for more detailed results.\n",
        "\n",
        "The procedure is similar to that of scikit-learn.\n",
        "\n",
        "\n",
        "### Step 1: Import packages\n",
        "\n",
        "First you need to do some imports. In addition to numpy, you need to import statsmodels.api:"
      ]
    },
    {
      "cell_type": "code",
      "metadata": {
        "id": "WSCB-Lyg6E2S",
        "colab_type": "code",
        "colab": {}
      },
      "source": [
        "mport numpy as np\n",
        "import statsmodels.api as sm"
      ],
      "execution_count": 0,
      "outputs": []
    },
    {
      "cell_type": "markdown",
      "metadata": {
        "id": "OPo7RuiU6Fyy",
        "colab_type": "text"
      },
      "source": [
        "Now you have the packages you need.\n",
        "\n",
        "### Step 2: Provide data and transform inputs\n",
        "\n",
        "You can provide the inputs and outputs the same way as you did when you were using scikit-learn:"
      ]
    },
    {
      "cell_type": "code",
      "metadata": {
        "id": "mUMi0A8n6KE6",
        "colab_type": "code",
        "colab": {}
      },
      "source": [
        "x = [[0, 1], [5, 1], [15, 2], [25, 5], [35, 11], [45, 15], [55, 34], [60, 35]]\n",
        "y = [4, 5, 20, 14, 32, 22, 38, 43]\n",
        "x, y = np.array(x), np.array(y)"
      ],
      "execution_count": 0,
      "outputs": []
    },
    {
      "cell_type": "markdown",
      "metadata": {
        "id": "baOi79_26Kvu",
        "colab_type": "text"
      },
      "source": [
        "The input and output arrays are created, but the job is not done yet.\n",
        "\n",
        "You need to add the column of ones to the inputs if you want statsmodels to calculate the intercept 𝑏₀. It doesn’t takes 𝑏₀ into account by default. This is just one function call:"
      ]
    },
    {
      "cell_type": "code",
      "metadata": {
        "id": "t9dOQYNB6MvC",
        "colab_type": "code",
        "colab": {}
      },
      "source": [
        "x = sm.add_constant(x)"
      ],
      "execution_count": 0,
      "outputs": []
    },
    {
      "cell_type": "markdown",
      "metadata": {
        "id": "F1ACmaRp6OJK",
        "colab_type": "text"
      },
      "source": [
        "That’s how you add the column of ones to x with add_constant(). It takes the input array x as an argument and returns a new array with the column of ones inserted at the beginning. This is how x and y look now:"
      ]
    },
    {
      "cell_type": "code",
      "metadata": {
        "id": "5l17da9-6Q14",
        "colab_type": "code",
        "colab": {}
      },
      "source": [
        "print(x)\n",
        "print(y) "
      ],
      "execution_count": 0,
      "outputs": []
    },
    {
      "cell_type": "markdown",
      "metadata": {
        "id": "Jj43BWHO6Uz4",
        "colab_type": "text"
      },
      "source": [
        "You can see that the modified x has three columns: the first column of ones (corresponding to 𝑏₀ and replacing the intercept) as well as two columns of the original features.\n",
        "\n",
        "### Step 3: Create a model and fit it\n",
        "\n",
        "The regression model based on ordinary least squares is an instance of the class statsmodels.regression.linear_model.OLS. This is how you can obtain one:"
      ]
    },
    {
      "cell_type": "code",
      "metadata": {
        "id": "GclTJ_ss6Xov",
        "colab_type": "code",
        "colab": {}
      },
      "source": [
        "model = sm.OLS(y, x)"
      ],
      "execution_count": 0,
      "outputs": []
    },
    {
      "cell_type": "markdown",
      "metadata": {
        "id": "Y1wzzmXd6apI",
        "colab_type": "text"
      },
      "source": [
        "You should be careful here! Please, notice that the first argument is the output, followed with the input. There are several more optional parameters.\n",
        "\n",
        "To find more information about this class, please visit [the official documentation page.](https://www.statsmodels.org/stable/generated/statsmodels.regression.linear_model.OLS.html)\n",
        "\n",
        "Once your model is created, you can apply .fit() on it:"
      ]
    },
    {
      "cell_type": "code",
      "metadata": {
        "id": "yABfsqYS6hcl",
        "colab_type": "code",
        "colab": {}
      },
      "source": [
        "results = model.fit()"
      ],
      "execution_count": 0,
      "outputs": []
    },
    {
      "cell_type": "markdown",
      "metadata": {
        "id": "VuEy2CXb6lji",
        "colab_type": "text"
      },
      "source": [
        "By calling .fit(), you obtain the variable results, which is an instance of the class statsmodels.regression.linear_model.RegressionResultsWrapper. This object holds a lot of information about the regression model.\n",
        "\n",
        "### Step 4: Get results\n",
        "\n",
        "The variable results refers to the object that contains detailed information about the results of linear regression. Explaining them is far beyond the scope of this article, but you’ll learn here how to extract them.\n",
        "\n",
        "You can call .summary() to get the table with the results of linear regression:"
      ]
    },
    {
      "cell_type": "code",
      "metadata": {
        "id": "IZsV5IJs6rVN",
        "colab_type": "code",
        "colab": {}
      },
      "source": [
        "print(results.summary())"
      ],
      "execution_count": 0,
      "outputs": []
    },
    {
      "cell_type": "markdown",
      "metadata": {
        "id": "N7fDVNH-6sOG",
        "colab_type": "text"
      },
      "source": [
        "This table is very comprehensive. You can find many statistical values associated with linear regression including 𝑅², 𝑏₀, 𝑏₁, and 𝑏₂.\n",
        "\n",
        "In this particular case, you might obtain the warning related to kurtosistest. This is due to the small number of observations provided.\n",
        "\n",
        "You can extract any of the values from the table above. Here’s an example:"
      ]
    },
    {
      "cell_type": "code",
      "metadata": {
        "id": "2lsa9Rxk6zQ_",
        "colab_type": "code",
        "colab": {}
      },
      "source": [
        "print('coefficient of determination:', results.rsquared)\n",
        "print('adjusted coefficient of determination:', results.rsquared_adj)\n",
        "print('regression coefficients:', results.params)"
      ],
      "execution_count": 0,
      "outputs": []
    },
    {
      "cell_type": "markdown",
      "metadata": {
        "id": "wc6tY99S66PA",
        "colab_type": "text"
      },
      "source": [
        "That’s how you obtain some of the results of linear regression:\n",
        "\n",
        "1. rsquared holds 𝑅².\n",
        "2. rsquared_adj represents adjusted 𝑅² (𝑅² corrected according to the number of input features).\n",
        "3. params refers the array with 𝑏₀, 𝑏₁, and 𝑏₂ respectively.\n",
        "You can also notice that these results are identical to those obtained with scikit-learn for the same problem.\n",
        "\n",
        "To find more information about the results of linear regression, please visit [the official documentation page](https://www.statsmodels.org/stable/generated/statsmodels.regression.linear_model.RegressionResults.html).\n"
      ]
    },
    {
      "cell_type": "markdown",
      "metadata": {
        "id": "rY07Lrtd7Ylx",
        "colab_type": "text"
      },
      "source": [
        "### Step 5: Predict response\n",
        "\n",
        "You can obtain the predicted response on the input values used for creating the model using .fittedvalues or .predict() with the input array as the argument:"
      ]
    },
    {
      "cell_type": "code",
      "metadata": {
        "id": "6N2fFvhs7cPc",
        "colab_type": "code",
        "colab": {}
      },
      "source": [
        "print('predicted response:', results.fittedvalues, sep='\\n')"
      ],
      "execution_count": 0,
      "outputs": []
    },
    {
      "cell_type": "code",
      "metadata": {
        "id": "MQSCMcMB7c4f",
        "colab_type": "code",
        "colab": {}
      },
      "source": [
        "print('predicted response:', results.predict(x), sep='\\n')"
      ],
      "execution_count": 0,
      "outputs": []
    },
    {
      "cell_type": "markdown",
      "metadata": {
        "id": "wlDozsJ_7fxl",
        "colab_type": "text"
      },
      "source": [
        "This is the predicted response for known inputs. If you want predictions with new regressors, you can also apply .predict() with new data as the argument:"
      ]
    },
    {
      "cell_type": "code",
      "metadata": {
        "id": "-c3okLk-7huB",
        "colab_type": "code",
        "colab": {}
      },
      "source": [
        "x_new = sm.add_constant(np.arange(10).reshape((-1, 2)))\n",
        "print(x_new)\n",
        "y_new = results.predict(x_new)\n",
        "print(y_new)"
      ],
      "execution_count": 0,
      "outputs": []
    },
    {
      "cell_type": "markdown",
      "metadata": {
        "id": "TEdKmPpC7mkN",
        "colab_type": "text"
      },
      "source": [
        "You can notice that the predicted results are the same as those obtained with scikit-learn for the same problem."
      ]
    },
    {
      "cell_type": "markdown",
      "metadata": {
        "id": "Z3yOxmHk7olh",
        "colab_type": "text"
      },
      "source": [
        "# Beyond Linear Regression\n",
        "\n",
        "Linear regression is sometimes not appropriate, especially for non-linear models of high complexity.\n",
        "\n",
        "Fortunately, there are other regression techniques suitable for the cases where linear regression doesn’t work well. Some of them are support vector machines, decision trees, random forest, and neural networks.\n",
        "\n",
        "There are numerous Python libraries for regression using these techniques. Most of them are free and open-source. That’s one of the reasons why Python is among the main programming languages for machine learning.\n",
        "\n",
        "The package scikit-learn provides the means for using other regression techniques in a very similar way to what you’ve seen. It contains the classes for support vector machines, decision trees, random forest, and more, with the methods .fit(), .predict(), .score() and so on."
      ]
    },
    {
      "cell_type": "markdown",
      "metadata": {
        "id": "e8zafaX47rtD",
        "colab_type": "text"
      },
      "source": [
        "# Conclusion\n",
        "\n",
        "You now know what linear regression is and how you can implement it with Python and three open-source packages: NumPy, scikit-learn, and statsmodels.\n",
        "\n",
        "You use NumPy for handling arrays.\n",
        "\n",
        "Linear regression is implemented with the following:\n",
        "\n",
        "- **scikit-learn** if you don’t need detailed results and want to use the approach consistent with other regression techniques\n",
        "- **statsmodels** if you need the advanced statistical parameters of a model\n",
        "Both approaches are worth learning how to use and exploring further. The links in this article can be very useful for that.\n",
        "\n",
        "When performing linear regression in Python, you can follow these steps:\n",
        "\n",
        "1. Import the packages and classes you need\n",
        "2. Provide data to work with and eventually do appropriate transformations\n",
        "3. Create a regression model and fit it with existing data\n",
        "4. Check the results of model fitting to know whether the model is satisfactory\n",
        "5. Apply the model for predictions"
      ]
    }
  ]
}